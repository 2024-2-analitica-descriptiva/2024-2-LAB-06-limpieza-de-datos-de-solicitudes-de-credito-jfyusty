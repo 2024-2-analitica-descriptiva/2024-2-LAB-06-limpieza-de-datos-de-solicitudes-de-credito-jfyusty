{
 "cells": [
  {
   "cell_type": "code",
   "execution_count": 1,
   "metadata": {},
   "outputs": [],
   "source": [
    "import pandas as pd\n",
    "\n"
   ]
  },
  {
   "cell_type": "code",
   "execution_count": 47,
   "metadata": {},
   "outputs": [],
   "source": [
    "# Cargamos el archivo CSV\n",
    "file_path = '../files/input/solicitudes_de_credito.csv'\n",
    "data = pd.read_csv(file_path, sep=';')\n",
    "\n"
   ]
  },
  {
   "cell_type": "code",
   "execution_count": 48,
   "metadata": {},
   "outputs": [
    {
     "data": {
      "text/html": [
       "<div>\n",
       "<style scoped>\n",
       "    .dataframe tbody tr th:only-of-type {\n",
       "        vertical-align: middle;\n",
       "    }\n",
       "\n",
       "    .dataframe tbody tr th {\n",
       "        vertical-align: top;\n",
       "    }\n",
       "\n",
       "    .dataframe thead th {\n",
       "        text-align: right;\n",
       "    }\n",
       "</style>\n",
       "<table border=\"1\" class=\"dataframe\">\n",
       "  <thead>\n",
       "    <tr style=\"text-align: right;\">\n",
       "      <th></th>\n",
       "      <th>Unnamed: 0</th>\n",
       "      <th>sexo</th>\n",
       "      <th>tipo_de_emprendimiento</th>\n",
       "      <th>idea_negocio</th>\n",
       "      <th>barrio</th>\n",
       "      <th>estrato</th>\n",
       "      <th>comuna_ciudadano</th>\n",
       "      <th>fecha_de_beneficio</th>\n",
       "      <th>monto_del_credito</th>\n",
       "      <th>línea_credito</th>\n",
       "    </tr>\n",
       "  </thead>\n",
       "  <tbody>\n",
       "    <tr>\n",
       "      <th>0</th>\n",
       "      <td>0</td>\n",
       "      <td>masculino</td>\n",
       "      <td>comercio</td>\n",
       "      <td>fabrica de</td>\n",
       "      <td>prado</td>\n",
       "      <td>3</td>\n",
       "      <td>10.0</td>\n",
       "      <td>13/07/2018</td>\n",
       "      <td>5000000</td>\n",
       "      <td>microempresarial</td>\n",
       "    </tr>\n",
       "    <tr>\n",
       "      <th>1</th>\n",
       "      <td>1</td>\n",
       "      <td>femenino</td>\n",
       "      <td>servicio</td>\n",
       "      <td>recreativo-educativo</td>\n",
       "      <td>barrio caicedo</td>\n",
       "      <td>1</td>\n",
       "      <td>9.0</td>\n",
       "      <td>30/10/2017</td>\n",
       "      <td>6000000</td>\n",
       "      <td>microempresarial</td>\n",
       "    </tr>\n",
       "    <tr>\n",
       "      <th>2</th>\n",
       "      <td>2</td>\n",
       "      <td>femenino</td>\n",
       "      <td>comercio</td>\n",
       "      <td>tienda</td>\n",
       "      <td>aranjuez</td>\n",
       "      <td>2</td>\n",
       "      <td>4.0</td>\n",
       "      <td>3/08/2017</td>\n",
       "      <td>7300000</td>\n",
       "      <td>microempresarial</td>\n",
       "    </tr>\n",
       "    <tr>\n",
       "      <th>3</th>\n",
       "      <td>3</td>\n",
       "      <td>Masculino</td>\n",
       "      <td>comercio</td>\n",
       "      <td>variedades</td>\n",
       "      <td>cabecera san cristobal</td>\n",
       "      <td>3</td>\n",
       "      <td>60.0</td>\n",
       "      <td>20/11/2017</td>\n",
       "      <td>7000000</td>\n",
       "      <td>microempresarial</td>\n",
       "    </tr>\n",
       "    <tr>\n",
       "      <th>4</th>\n",
       "      <td>4</td>\n",
       "      <td>femenino</td>\n",
       "      <td>comercio</td>\n",
       "      <td>fabrica de</td>\n",
       "      <td>robledo</td>\n",
       "      <td>2</td>\n",
       "      <td>7.0</td>\n",
       "      <td>23/02/2017</td>\n",
       "      <td>5000000</td>\n",
       "      <td>microempresarial</td>\n",
       "    </tr>\n",
       "  </tbody>\n",
       "</table>\n",
       "</div>"
      ],
      "text/plain": [
       "   Unnamed: 0       sexo tipo_de_emprendimiento          idea_negocio  \\\n",
       "0           0  masculino               comercio           fabrica de    \n",
       "1           1   femenino               servicio  recreativo-educativo   \n",
       "2           2   femenino               comercio                tienda   \n",
       "3           3  Masculino               comercio            variedades   \n",
       "4           4   femenino               comercio           fabrica de    \n",
       "\n",
       "                   barrio  estrato  comuna_ciudadano fecha_de_beneficio  \\\n",
       "0                   prado        3              10.0         13/07/2018   \n",
       "1          barrio caicedo        1               9.0         30/10/2017   \n",
       "2                aranjuez        2               4.0          3/08/2017   \n",
       "3  cabecera san cristobal        3              60.0         20/11/2017   \n",
       "4                 robledo        2               7.0         23/02/2017   \n",
       "\n",
       "  monto_del_credito     línea_credito  \n",
       "0           5000000  microempresarial  \n",
       "1           6000000  microempresarial  \n",
       "2           7300000  microempresarial  \n",
       "3           7000000  microempresarial  \n",
       "4           5000000  microempresarial  "
      ]
     },
     "execution_count": 48,
     "metadata": {},
     "output_type": "execute_result"
    }
   ],
   "source": [
    "data.head()"
   ]
  },
  {
   "cell_type": "code",
   "execution_count": 49,
   "metadata": {},
   "outputs": [
    {
     "data": {
      "text/plain": [
       "Unnamed: 0                  int64\n",
       "sexo                       object\n",
       "tipo_de_emprendimiento     object\n",
       "idea_negocio               object\n",
       "barrio                     object\n",
       "estrato                     int64\n",
       "comuna_ciudadano          float64\n",
       "fecha_de_beneficio         object\n",
       "monto_del_credito          object\n",
       "línea_credito              object\n",
       "dtype: object"
      ]
     },
     "execution_count": 49,
     "metadata": {},
     "output_type": "execute_result"
    }
   ],
   "source": [
    "data.dtypes"
   ]
  },
  {
   "cell_type": "code",
   "execution_count": 50,
   "metadata": {},
   "outputs": [
    {
     "data": {
      "text/plain": [
       "(10920, 10)"
      ]
     },
     "execution_count": 50,
     "metadata": {},
     "output_type": "execute_result"
    }
   ],
   "source": [
    "data.shape"
   ]
  },
  {
   "cell_type": "code",
   "execution_count": 51,
   "metadata": {},
   "outputs": [],
   "source": [
    "data.drop(['Unnamed: 0'], axis=1, inplace=True)"
   ]
  },
  {
   "cell_type": "code",
   "execution_count": 52,
   "metadata": {},
   "outputs": [
    {
     "data": {
      "text/plain": [
       "sexo                       object\n",
       "tipo_de_emprendimiento     object\n",
       "idea_negocio               object\n",
       "barrio                     object\n",
       "estrato                     int64\n",
       "comuna_ciudadano          float64\n",
       "fecha_de_beneficio         object\n",
       "monto_del_credito          object\n",
       "línea_credito              object\n",
       "dtype: object"
      ]
     },
     "execution_count": 52,
     "metadata": {},
     "output_type": "execute_result"
    }
   ],
   "source": [
    "data.dtypes"
   ]
  },
  {
   "cell_type": "code",
   "execution_count": 53,
   "metadata": {},
   "outputs": [
    {
     "data": {
      "text/plain": [
       "sexo                        0\n",
       "tipo_de_emprendimiento    102\n",
       "idea_negocio                0\n",
       "barrio                    102\n",
       "estrato                     0\n",
       "comuna_ciudadano            0\n",
       "fecha_de_beneficio          0\n",
       "monto_del_credito           0\n",
       "línea_credito               0\n",
       "dtype: int64"
      ]
     },
     "execution_count": 53,
     "metadata": {},
     "output_type": "execute_result"
    }
   ],
   "source": [
    "# Verificamos la cantidad de valores faltantes (NA) en cada columna\n",
    "data.isna().sum()"
   ]
  },
  {
   "cell_type": "code",
   "execution_count": 54,
   "metadata": {},
   "outputs": [
    {
     "data": {
      "text/plain": [
       "sexo                      0\n",
       "tipo_de_emprendimiento    0\n",
       "idea_negocio              0\n",
       "barrio                    0\n",
       "estrato                   0\n",
       "comuna_ciudadano          0\n",
       "fecha_de_beneficio        0\n",
       "monto_del_credito         0\n",
       "línea_credito             0\n",
       "dtype: int64"
      ]
     },
     "execution_count": 54,
     "metadata": {},
     "output_type": "execute_result"
    }
   ],
   "source": [
    "data.dropna(inplace=True)\n",
    "data.isna().sum()"
   ]
  },
  {
   "cell_type": "code",
   "execution_count": 55,
   "metadata": {},
   "outputs": [
    {
     "data": {
      "text/plain": [
       "np.int64(241)"
      ]
     },
     "execution_count": 55,
     "metadata": {},
     "output_type": "execute_result"
    }
   ],
   "source": [
    "data.duplicated().sum()"
   ]
  },
  {
   "cell_type": "code",
   "execution_count": 56,
   "metadata": {},
   "outputs": [
    {
     "data": {
      "text/plain": [
       "np.int64(0)"
      ]
     },
     "execution_count": 56,
     "metadata": {},
     "output_type": "execute_result"
    }
   ],
   "source": [
    "data.drop_duplicates(inplace=True)\n",
    "data.duplicated().sum()"
   ]
  },
  {
   "cell_type": "code",
   "execution_count": 57,
   "metadata": {},
   "outputs": [
    {
     "data": {
      "text/plain": [
       "(10475, 9)"
      ]
     },
     "execution_count": 57,
     "metadata": {},
     "output_type": "execute_result"
    }
   ],
   "source": [
    "data.shape"
   ]
  },
  {
   "cell_type": "code",
   "execution_count": 58,
   "metadata": {},
   "outputs": [
    {
     "data": {
      "text/html": [
       "<div>\n",
       "<style scoped>\n",
       "    .dataframe tbody tr th:only-of-type {\n",
       "        vertical-align: middle;\n",
       "    }\n",
       "\n",
       "    .dataframe tbody tr th {\n",
       "        vertical-align: top;\n",
       "    }\n",
       "\n",
       "    .dataframe thead th {\n",
       "        text-align: right;\n",
       "    }\n",
       "</style>\n",
       "<table border=\"1\" class=\"dataframe\">\n",
       "  <thead>\n",
       "    <tr style=\"text-align: right;\">\n",
       "      <th></th>\n",
       "      <th>sexo</th>\n",
       "      <th>tipo_de_emprendimiento</th>\n",
       "      <th>idea_negocio</th>\n",
       "      <th>barrio</th>\n",
       "      <th>estrato</th>\n",
       "      <th>comuna_ciudadano</th>\n",
       "      <th>fecha_de_beneficio</th>\n",
       "      <th>monto_del_credito</th>\n",
       "      <th>línea_credito</th>\n",
       "    </tr>\n",
       "  </thead>\n",
       "  <tbody>\n",
       "    <tr>\n",
       "      <th>0</th>\n",
       "      <td>masculino</td>\n",
       "      <td>comercio</td>\n",
       "      <td>fabrica de</td>\n",
       "      <td>prado</td>\n",
       "      <td>3</td>\n",
       "      <td>10.0</td>\n",
       "      <td>2018-07-13</td>\n",
       "      <td>5000000</td>\n",
       "      <td>microempresarial</td>\n",
       "    </tr>\n",
       "    <tr>\n",
       "      <th>1</th>\n",
       "      <td>femenino</td>\n",
       "      <td>servicio</td>\n",
       "      <td>recreativo-educativo</td>\n",
       "      <td>barrio caicedo</td>\n",
       "      <td>1</td>\n",
       "      <td>9.0</td>\n",
       "      <td>2017-10-30</td>\n",
       "      <td>6000000</td>\n",
       "      <td>microempresarial</td>\n",
       "    </tr>\n",
       "    <tr>\n",
       "      <th>2</th>\n",
       "      <td>femenino</td>\n",
       "      <td>comercio</td>\n",
       "      <td>tienda</td>\n",
       "      <td>aranjuez</td>\n",
       "      <td>2</td>\n",
       "      <td>4.0</td>\n",
       "      <td>2017-08-3</td>\n",
       "      <td>7300000</td>\n",
       "      <td>microempresarial</td>\n",
       "    </tr>\n",
       "    <tr>\n",
       "      <th>3</th>\n",
       "      <td>Masculino</td>\n",
       "      <td>comercio</td>\n",
       "      <td>variedades</td>\n",
       "      <td>cabecera san cristobal</td>\n",
       "      <td>3</td>\n",
       "      <td>60.0</td>\n",
       "      <td>2017-11-20</td>\n",
       "      <td>7000000</td>\n",
       "      <td>microempresarial</td>\n",
       "    </tr>\n",
       "    <tr>\n",
       "      <th>4</th>\n",
       "      <td>femenino</td>\n",
       "      <td>comercio</td>\n",
       "      <td>fabrica de</td>\n",
       "      <td>robledo</td>\n",
       "      <td>2</td>\n",
       "      <td>7.0</td>\n",
       "      <td>2017-02-23</td>\n",
       "      <td>5000000</td>\n",
       "      <td>microempresarial</td>\n",
       "    </tr>\n",
       "  </tbody>\n",
       "</table>\n",
       "</div>"
      ],
      "text/plain": [
       "        sexo tipo_de_emprendimiento          idea_negocio  \\\n",
       "0  masculino               comercio           fabrica de    \n",
       "1   femenino               servicio  recreativo-educativo   \n",
       "2   femenino               comercio                tienda   \n",
       "3  Masculino               comercio            variedades   \n",
       "4   femenino               comercio           fabrica de    \n",
       "\n",
       "                   barrio  estrato  comuna_ciudadano fecha_de_beneficio  \\\n",
       "0                   prado        3              10.0         2018-07-13   \n",
       "1          barrio caicedo        1               9.0         2017-10-30   \n",
       "2                aranjuez        2               4.0          2017-08-3   \n",
       "3  cabecera san cristobal        3              60.0         2017-11-20   \n",
       "4                 robledo        2               7.0         2017-02-23   \n",
       "\n",
       "  monto_del_credito     línea_credito  \n",
       "0           5000000  microempresarial  \n",
       "1           6000000  microempresarial  \n",
       "2           7300000  microempresarial  \n",
       "3           7000000  microempresarial  \n",
       "4           5000000  microempresarial  "
      ]
     },
     "execution_count": 58,
     "metadata": {},
     "output_type": "execute_result"
    }
   ],
   "source": [
    "# Separar la fecha en día, mes y año\n",
    "data[['día', 'mes', 'año']] = data['fecha_de_beneficio'].str.split('/', expand=True)\n",
    "\n",
    "# Reordenar si el año tiene menos de 4 dígitos\n",
    "data.loc[data['año'].str.len() < 4, ['día', 'año']] = data.loc[data['año'].str.len() < 4, ['año', 'día']].values\n",
    "\n",
    "# Combinar el año, mes y día en una nueva columna\n",
    "data['fecha_de_beneficio'] = data['año'] + '-' + data['mes'] + '-' + data['día']\n",
    "\n",
    "data.drop(['día', 'mes', 'año'], axis=1, inplace=True)\n",
    "data.head()"
   ]
  },
  {
   "cell_type": "code",
   "execution_count": 59,
   "metadata": {},
   "outputs": [
    {
     "data": {
      "text/html": [
       "<div>\n",
       "<style scoped>\n",
       "    .dataframe tbody tr th:only-of-type {\n",
       "        vertical-align: middle;\n",
       "    }\n",
       "\n",
       "    .dataframe tbody tr th {\n",
       "        vertical-align: top;\n",
       "    }\n",
       "\n",
       "    .dataframe thead th {\n",
       "        text-align: right;\n",
       "    }\n",
       "</style>\n",
       "<table border=\"1\" class=\"dataframe\">\n",
       "  <thead>\n",
       "    <tr style=\"text-align: right;\">\n",
       "      <th></th>\n",
       "      <th>sexo</th>\n",
       "      <th>tipo_de_emprendimiento</th>\n",
       "      <th>idea_negocio</th>\n",
       "      <th>barrio</th>\n",
       "      <th>estrato</th>\n",
       "      <th>comuna_ciudadano</th>\n",
       "      <th>fecha_de_beneficio</th>\n",
       "      <th>monto_del_credito</th>\n",
       "      <th>línea_credito</th>\n",
       "    </tr>\n",
       "  </thead>\n",
       "  <tbody>\n",
       "    <tr>\n",
       "      <th>0</th>\n",
       "      <td>masculino</td>\n",
       "      <td>comercio</td>\n",
       "      <td>fabrica de</td>\n",
       "      <td>prado</td>\n",
       "      <td>3</td>\n",
       "      <td>10.0</td>\n",
       "      <td>2018-07-13</td>\n",
       "      <td>5000000</td>\n",
       "      <td>microempresarial</td>\n",
       "    </tr>\n",
       "    <tr>\n",
       "      <th>1</th>\n",
       "      <td>femenino</td>\n",
       "      <td>servicio</td>\n",
       "      <td>recreativo educativo</td>\n",
       "      <td>barrio caicedo</td>\n",
       "      <td>1</td>\n",
       "      <td>9.0</td>\n",
       "      <td>2017-10-30</td>\n",
       "      <td>6000000</td>\n",
       "      <td>microempresarial</td>\n",
       "    </tr>\n",
       "    <tr>\n",
       "      <th>2</th>\n",
       "      <td>femenino</td>\n",
       "      <td>comercio</td>\n",
       "      <td>tienda</td>\n",
       "      <td>aranjuez</td>\n",
       "      <td>2</td>\n",
       "      <td>4.0</td>\n",
       "      <td>2017-08-3</td>\n",
       "      <td>7300000</td>\n",
       "      <td>microempresarial</td>\n",
       "    </tr>\n",
       "    <tr>\n",
       "      <th>3</th>\n",
       "      <td>masculino</td>\n",
       "      <td>comercio</td>\n",
       "      <td>variedades</td>\n",
       "      <td>cabecera san cristobal</td>\n",
       "      <td>3</td>\n",
       "      <td>60.0</td>\n",
       "      <td>2017-11-20</td>\n",
       "      <td>7000000</td>\n",
       "      <td>microempresarial</td>\n",
       "    </tr>\n",
       "    <tr>\n",
       "      <th>4</th>\n",
       "      <td>femenino</td>\n",
       "      <td>comercio</td>\n",
       "      <td>fabrica de</td>\n",
       "      <td>robledo</td>\n",
       "      <td>2</td>\n",
       "      <td>7.0</td>\n",
       "      <td>2017-02-23</td>\n",
       "      <td>5000000</td>\n",
       "      <td>microempresarial</td>\n",
       "    </tr>\n",
       "  </tbody>\n",
       "</table>\n",
       "</div>"
      ],
      "text/plain": [
       "        sexo tipo_de_emprendimiento          idea_negocio  \\\n",
       "0  masculino               comercio            fabrica de   \n",
       "1   femenino               servicio  recreativo educativo   \n",
       "2   femenino               comercio                tienda   \n",
       "3  masculino               comercio            variedades   \n",
       "4   femenino               comercio            fabrica de   \n",
       "\n",
       "                   barrio  estrato  comuna_ciudadano fecha_de_beneficio  \\\n",
       "0                   prado        3              10.0         2018-07-13   \n",
       "1          barrio caicedo        1               9.0         2017-10-30   \n",
       "2                aranjuez        2               4.0          2017-08-3   \n",
       "3  cabecera san cristobal        3              60.0         2017-11-20   \n",
       "4                 robledo        2               7.0         2017-02-23   \n",
       "\n",
       "  monto_del_credito     línea_credito  \n",
       "0           5000000  microempresarial  \n",
       "1           6000000  microempresarial  \n",
       "2           7300000  microempresarial  \n",
       "3           7000000  microempresarial  \n",
       "4           5000000  microempresarial  "
      ]
     },
     "execution_count": 59,
     "metadata": {},
     "output_type": "execute_result"
    }
   ],
   "source": [
    "# Limpiar las columnas de tipo object según las especificaciones dadas\n",
    "object_columns = ['sexo', 'tipo_de_emprendimiento', 'idea_negocio', 'línea_credito']\n",
    "data[object_columns] = data[object_columns].apply(lambda x: x.str.lower().replace(['-', '_'], ' ', regex=True).str.strip())\n",
    "\n",
    "data.head()"
   ]
  },
  {
   "cell_type": "code",
   "execution_count": 60,
   "metadata": {},
   "outputs": [],
   "source": [
    "data['barrio'] = data['barrio'].str.lower().replace(['-', '_'], ' ', regex=True)"
   ]
  },
  {
   "cell_type": "code",
   "execution_count": 61,
   "metadata": {},
   "outputs": [
    {
     "data": {
      "text/html": [
       "<div>\n",
       "<style scoped>\n",
       "    .dataframe tbody tr th:only-of-type {\n",
       "        vertical-align: middle;\n",
       "    }\n",
       "\n",
       "    .dataframe tbody tr th {\n",
       "        vertical-align: top;\n",
       "    }\n",
       "\n",
       "    .dataframe thead th {\n",
       "        text-align: right;\n",
       "    }\n",
       "</style>\n",
       "<table border=\"1\" class=\"dataframe\">\n",
       "  <thead>\n",
       "    <tr style=\"text-align: right;\">\n",
       "      <th></th>\n",
       "      <th>sexo</th>\n",
       "      <th>tipo_de_emprendimiento</th>\n",
       "      <th>idea_negocio</th>\n",
       "      <th>barrio</th>\n",
       "      <th>estrato</th>\n",
       "      <th>comuna_ciudadano</th>\n",
       "      <th>fecha_de_beneficio</th>\n",
       "      <th>monto_del_credito</th>\n",
       "      <th>línea_credito</th>\n",
       "    </tr>\n",
       "  </thead>\n",
       "  <tbody>\n",
       "    <tr>\n",
       "      <th>0</th>\n",
       "      <td>masculino</td>\n",
       "      <td>comercio</td>\n",
       "      <td>fabrica de</td>\n",
       "      <td>prado</td>\n",
       "      <td>3</td>\n",
       "      <td>10.0</td>\n",
       "      <td>2018-07-13</td>\n",
       "      <td>5000000</td>\n",
       "      <td>microempresarial</td>\n",
       "    </tr>\n",
       "    <tr>\n",
       "      <th>1</th>\n",
       "      <td>femenino</td>\n",
       "      <td>servicio</td>\n",
       "      <td>recreativo educativo</td>\n",
       "      <td>barrio caicedo</td>\n",
       "      <td>1</td>\n",
       "      <td>9.0</td>\n",
       "      <td>2017-10-30</td>\n",
       "      <td>6000000</td>\n",
       "      <td>microempresarial</td>\n",
       "    </tr>\n",
       "    <tr>\n",
       "      <th>2</th>\n",
       "      <td>femenino</td>\n",
       "      <td>comercio</td>\n",
       "      <td>tienda</td>\n",
       "      <td>aranjuez</td>\n",
       "      <td>2</td>\n",
       "      <td>4.0</td>\n",
       "      <td>2017-08-3</td>\n",
       "      <td>7300000</td>\n",
       "      <td>microempresarial</td>\n",
       "    </tr>\n",
       "    <tr>\n",
       "      <th>3</th>\n",
       "      <td>masculino</td>\n",
       "      <td>comercio</td>\n",
       "      <td>variedades</td>\n",
       "      <td>cabecera san cristobal</td>\n",
       "      <td>3</td>\n",
       "      <td>60.0</td>\n",
       "      <td>2017-11-20</td>\n",
       "      <td>7000000</td>\n",
       "      <td>microempresarial</td>\n",
       "    </tr>\n",
       "    <tr>\n",
       "      <th>4</th>\n",
       "      <td>femenino</td>\n",
       "      <td>comercio</td>\n",
       "      <td>fabrica de</td>\n",
       "      <td>robledo</td>\n",
       "      <td>2</td>\n",
       "      <td>7.0</td>\n",
       "      <td>2017-02-23</td>\n",
       "      <td>5000000</td>\n",
       "      <td>microempresarial</td>\n",
       "    </tr>\n",
       "  </tbody>\n",
       "</table>\n",
       "</div>"
      ],
      "text/plain": [
       "        sexo tipo_de_emprendimiento          idea_negocio  \\\n",
       "0  masculino               comercio            fabrica de   \n",
       "1   femenino               servicio  recreativo educativo   \n",
       "2   femenino               comercio                tienda   \n",
       "3  masculino               comercio            variedades   \n",
       "4   femenino               comercio            fabrica de   \n",
       "\n",
       "                   barrio  estrato  comuna_ciudadano fecha_de_beneficio  \\\n",
       "0                   prado        3              10.0         2018-07-13   \n",
       "1          barrio caicedo        1               9.0         2017-10-30   \n",
       "2                aranjuez        2               4.0          2017-08-3   \n",
       "3  cabecera san cristobal        3              60.0         2017-11-20   \n",
       "4                 robledo        2               7.0         2017-02-23   \n",
       "\n",
       "  monto_del_credito     línea_credito  \n",
       "0           5000000  microempresarial  \n",
       "1           6000000  microempresarial  \n",
       "2           7300000  microempresarial  \n",
       "3           7000000  microempresarial  \n",
       "4           5000000  microempresarial  "
      ]
     },
     "execution_count": 61,
     "metadata": {},
     "output_type": "execute_result"
    }
   ],
   "source": [
    "# Limpiar la columna 'monto_del_credito'\n",
    "data['monto_del_credito'] = data['monto_del_credito'].str.replace(\"[$, ]\", \"\", regex=True).str.strip()\n",
    "\n",
    "# Convertir 'monto_del_credito' a numérico\n",
    "data['monto_del_credito'] = pd.to_numeric(data['monto_del_credito'], errors='coerce')\n",
    "\n",
    "# Convertir 'monto_del_credito' a entero (donde sea posible)\n",
    "data['monto_del_credito'] = data['monto_del_credito'].fillna(0).astype(int)\n",
    "\n",
    "# Convertir 'monto_del_credito' a texto y eliminar '.00'\n",
    "data['monto_del_credito'] = data['monto_del_credito'].astype(str).str.replace('.00', '')\n",
    "\n",
    "data.head()"
   ]
  },
  {
   "cell_type": "code",
   "execution_count": 62,
   "metadata": {},
   "outputs": [
    {
     "data": {
      "text/plain": [
       "sexo                       object\n",
       "tipo_de_emprendimiento     object\n",
       "idea_negocio               object\n",
       "barrio                     object\n",
       "estrato                     int64\n",
       "comuna_ciudadano          float64\n",
       "fecha_de_beneficio         object\n",
       "monto_del_credito          object\n",
       "línea_credito              object\n",
       "dtype: object"
      ]
     },
     "execution_count": 62,
     "metadata": {},
     "output_type": "execute_result"
    }
   ],
   "source": [
    "data.dtypes"
   ]
  },
  {
   "cell_type": "code",
   "execution_count": 63,
   "metadata": {},
   "outputs": [
    {
     "data": {
      "text/plain": [
       "(10475, 9)"
      ]
     },
     "execution_count": 63,
     "metadata": {},
     "output_type": "execute_result"
    }
   ],
   "source": [
    "data.shape"
   ]
  },
  {
   "cell_type": "code",
   "execution_count": 64,
   "metadata": {},
   "outputs": [
    {
     "data": {
      "text/plain": [
       "np.int64(269)"
      ]
     },
     "execution_count": 64,
     "metadata": {},
     "output_type": "execute_result"
    }
   ],
   "source": [
    "data.duplicated().sum()"
   ]
  },
  {
   "cell_type": "code",
   "execution_count": 65,
   "metadata": {},
   "outputs": [
    {
     "data": {
      "text/plain": [
       "(10206, 9)"
      ]
     },
     "execution_count": 65,
     "metadata": {},
     "output_type": "execute_result"
    }
   ],
   "source": [
    "data.drop_duplicates(inplace=True)\n",
    "data.duplicated().sum()\n",
    "data.shape"
   ]
  },
  {
   "cell_type": "code",
   "execution_count": 66,
   "metadata": {},
   "outputs": [
    {
     "data": {
      "text/plain": [
       "tipo_de_emprendimiento\n",
       "comercio        5636\n",
       "servicio        2205\n",
       "industria       2201\n",
       "agropecuaria     164\n",
       "Name: count, dtype: int64"
      ]
     },
     "execution_count": 66,
     "metadata": {},
     "output_type": "execute_result"
    }
   ],
   "source": [
    "data.tipo_de_emprendimiento.value_counts()"
   ]
  },
  {
   "cell_type": "code",
   "execution_count": 67,
   "metadata": {},
   "outputs": [
    {
     "data": {
      "text/plain": [
       "sexo\n",
       "femenino     6617\n",
       "masculino    3589\n",
       "Name: count, dtype: int64"
      ]
     },
     "execution_count": 67,
     "metadata": {},
     "output_type": "execute_result"
    }
   ],
   "source": [
    "data.sexo.value_counts()"
   ]
  },
  {
   "cell_type": "code",
   "execution_count": 68,
   "metadata": {},
   "outputs": [
    {
     "data": {
      "text/plain": [
       "estrato\n",
       "2    5023\n",
       "3    3151\n",
       "1    2029\n",
       "0       3\n",
       "Name: count, dtype: int64"
      ]
     },
     "execution_count": 68,
     "metadata": {},
     "output_type": "execute_result"
    }
   ],
   "source": [
    "data.estrato.value_counts()"
   ]
  },
  {
   "cell_type": "code",
   "execution_count": 69,
   "metadata": {},
   "outputs": [
    {
     "data": {
      "text/plain": [
       "línea_credito\n",
       "microempresarial          10020\n",
       "empresarial ed.              70\n",
       "agropecuaria                 55\n",
       "juridica y cap.semilla       33\n",
       "credioportuno                21\n",
       "fomento agropecuario          4\n",
       "soli diaria                   1\n",
       "solidaria                     1\n",
       "ayacucho formal               1\n",
       "Name: count, dtype: int64"
      ]
     },
     "execution_count": 69,
     "metadata": {},
     "output_type": "execute_result"
    }
   ],
   "source": [
    "data.línea_credito.value_counts()"
   ]
  },
  {
   "cell_type": "code",
   "execution_count": 70,
   "metadata": {},
   "outputs": [
    {
     "data": {
      "text/plain": [
       "barrio\n",
       "robledo                   990\n",
       "manrique central no. 1    483\n",
       "san javier no.1           423\n",
       "aranjuez                  383\n",
       "belen                     376\n",
       "                         ... \n",
       "loma de los bernal          1\n",
       "carlos e. restrepo          1\n",
       "brasilia                    1\n",
       "travesias                   1\n",
       "el llano                    1\n",
       "Name: count, Length: 225, dtype: int64"
      ]
     },
     "execution_count": 70,
     "metadata": {},
     "output_type": "execute_result"
    }
   ],
   "source": [
    "data.barrio.value_counts()"
   ]
  }
 ],
 "metadata": {
  "kernelspec": {
   "display_name": ".venv",
   "language": "python",
   "name": "python3"
  },
  "language_info": {
   "codemirror_mode": {
    "name": "ipython",
    "version": 3
   },
   "file_extension": ".py",
   "mimetype": "text/x-python",
   "name": "python",
   "nbconvert_exporter": "python",
   "pygments_lexer": "ipython3",
   "version": "3.12.8"
  }
 },
 "nbformat": 4,
 "nbformat_minor": 2
}
