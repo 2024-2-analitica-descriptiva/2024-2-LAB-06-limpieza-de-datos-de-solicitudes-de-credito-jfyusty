{
 "cells": [
  {
   "cell_type": "code",
   "execution_count": 1,
   "metadata": {},
   "outputs": [],
   "source": [
    "import os\n",
    "import pandas as pd\n",
    "import numpy as np"
   ]
  },
  {
   "cell_type": "code",
   "execution_count": 2,
   "metadata": {},
   "outputs": [
    {
     "data": {
      "text/html": [
       "<div>\n",
       "<style scoped>\n",
       "    .dataframe tbody tr th:only-of-type {\n",
       "        vertical-align: middle;\n",
       "    }\n",
       "\n",
       "    .dataframe tbody tr th {\n",
       "        vertical-align: top;\n",
       "    }\n",
       "\n",
       "    .dataframe thead th {\n",
       "        text-align: right;\n",
       "    }\n",
       "</style>\n",
       "<table border=\"1\" class=\"dataframe\">\n",
       "  <thead>\n",
       "    <tr style=\"text-align: right;\">\n",
       "      <th></th>\n",
       "      <th>Unnamed: 0</th>\n",
       "      <th>sexo</th>\n",
       "      <th>tipo_de_emprendimiento</th>\n",
       "      <th>idea_negocio</th>\n",
       "      <th>barrio</th>\n",
       "      <th>estrato</th>\n",
       "      <th>comuna_ciudadano</th>\n",
       "      <th>fecha_de_beneficio</th>\n",
       "      <th>monto_del_credito</th>\n",
       "      <th>línea_credito</th>\n",
       "    </tr>\n",
       "  </thead>\n",
       "  <tbody>\n",
       "    <tr>\n",
       "      <th>0</th>\n",
       "      <td>0</td>\n",
       "      <td>masculino</td>\n",
       "      <td>comercio</td>\n",
       "      <td>fabrica de</td>\n",
       "      <td>prado</td>\n",
       "      <td>3</td>\n",
       "      <td>10.0</td>\n",
       "      <td>13/07/2018</td>\n",
       "      <td>5000000</td>\n",
       "      <td>microempresarial</td>\n",
       "    </tr>\n",
       "    <tr>\n",
       "      <th>1</th>\n",
       "      <td>1</td>\n",
       "      <td>femenino</td>\n",
       "      <td>servicio</td>\n",
       "      <td>recreativo-educativo</td>\n",
       "      <td>barrio caicedo</td>\n",
       "      <td>1</td>\n",
       "      <td>9.0</td>\n",
       "      <td>30/10/2017</td>\n",
       "      <td>6000000</td>\n",
       "      <td>microempresarial</td>\n",
       "    </tr>\n",
       "    <tr>\n",
       "      <th>2</th>\n",
       "      <td>2</td>\n",
       "      <td>femenino</td>\n",
       "      <td>comercio</td>\n",
       "      <td>tienda</td>\n",
       "      <td>aranjuez</td>\n",
       "      <td>2</td>\n",
       "      <td>4.0</td>\n",
       "      <td>3/08/2017</td>\n",
       "      <td>7300000</td>\n",
       "      <td>microempresarial</td>\n",
       "    </tr>\n",
       "    <tr>\n",
       "      <th>3</th>\n",
       "      <td>3</td>\n",
       "      <td>Masculino</td>\n",
       "      <td>comercio</td>\n",
       "      <td>variedades</td>\n",
       "      <td>cabecera san cristobal</td>\n",
       "      <td>3</td>\n",
       "      <td>60.0</td>\n",
       "      <td>20/11/2017</td>\n",
       "      <td>7000000</td>\n",
       "      <td>microempresarial</td>\n",
       "    </tr>\n",
       "    <tr>\n",
       "      <th>4</th>\n",
       "      <td>4</td>\n",
       "      <td>femenino</td>\n",
       "      <td>comercio</td>\n",
       "      <td>fabrica de</td>\n",
       "      <td>robledo</td>\n",
       "      <td>2</td>\n",
       "      <td>7.0</td>\n",
       "      <td>23/02/2017</td>\n",
       "      <td>5000000</td>\n",
       "      <td>microempresarial</td>\n",
       "    </tr>\n",
       "  </tbody>\n",
       "</table>\n",
       "</div>"
      ],
      "text/plain": [
       "   Unnamed: 0       sexo tipo_de_emprendimiento          idea_negocio  \\\n",
       "0           0  masculino               comercio           fabrica de    \n",
       "1           1   femenino               servicio  recreativo-educativo   \n",
       "2           2   femenino               comercio                tienda   \n",
       "3           3  Masculino               comercio            variedades   \n",
       "4           4   femenino               comercio           fabrica de    \n",
       "\n",
       "                   barrio  estrato  comuna_ciudadano fecha_de_beneficio  \\\n",
       "0                   prado        3              10.0         13/07/2018   \n",
       "1          barrio caicedo        1               9.0         30/10/2017   \n",
       "2                aranjuez        2               4.0          3/08/2017   \n",
       "3  cabecera san cristobal        3              60.0         20/11/2017   \n",
       "4                 robledo        2               7.0         23/02/2017   \n",
       "\n",
       "  monto_del_credito     línea_credito  \n",
       "0           5000000  microempresarial  \n",
       "1           6000000  microempresarial  \n",
       "2           7300000  microempresarial  \n",
       "3           7000000  microempresarial  \n",
       "4           5000000  microempresarial  "
      ]
     },
     "execution_count": 2,
     "metadata": {},
     "output_type": "execute_result"
    }
   ],
   "source": [
    "df = pd.read_csv('../files/input/solicitudes_de_credito.csv', delimiter=';', encoding=\"utf-8\")\n",
    "df.head()"
   ]
  },
  {
   "cell_type": "code",
   "execution_count": 3,
   "metadata": {},
   "outputs": [],
   "source": [
    "# Normalización de las columnas con datos categóricos\n",
    "categorical_columns = ['sexo', 'tipo_de_emprendimiento', 'idea_negocio', 'barrio', 'línea_credito']\n",
    "df[categorical_columns] = df[categorical_columns].apply(lambda x: x.str.lower().replace([\" \", \"-\", \"_\", \"à\", \"è\", \"ì\", \"ò\", \"ù\", \"ñ\"], \"\", regex=True))\n"
   ]
  },
  {
   "cell_type": "code",
   "execution_count": 4,
   "metadata": {},
   "outputs": [
    {
     "data": {
      "text/html": [
       "<div>\n",
       "<style scoped>\n",
       "    .dataframe tbody tr th:only-of-type {\n",
       "        vertical-align: middle;\n",
       "    }\n",
       "\n",
       "    .dataframe tbody tr th {\n",
       "        vertical-align: top;\n",
       "    }\n",
       "\n",
       "    .dataframe thead th {\n",
       "        text-align: right;\n",
       "    }\n",
       "</style>\n",
       "<table border=\"1\" class=\"dataframe\">\n",
       "  <thead>\n",
       "    <tr style=\"text-align: right;\">\n",
       "      <th></th>\n",
       "      <th>Unnamed: 0</th>\n",
       "      <th>sexo</th>\n",
       "      <th>tipo_de_emprendimiento</th>\n",
       "      <th>idea_negocio</th>\n",
       "      <th>barrio</th>\n",
       "      <th>estrato</th>\n",
       "      <th>comuna_ciudadano</th>\n",
       "      <th>fecha_de_beneficio</th>\n",
       "      <th>monto_del_credito</th>\n",
       "      <th>línea_credito</th>\n",
       "    </tr>\n",
       "  </thead>\n",
       "  <tbody>\n",
       "    <tr>\n",
       "      <th>0</th>\n",
       "      <td>0</td>\n",
       "      <td>masculino</td>\n",
       "      <td>comercio</td>\n",
       "      <td>fabricade</td>\n",
       "      <td>prado</td>\n",
       "      <td>3</td>\n",
       "      <td>10.0</td>\n",
       "      <td>13/07/2018</td>\n",
       "      <td>5000000</td>\n",
       "      <td>microempresarial</td>\n",
       "    </tr>\n",
       "    <tr>\n",
       "      <th>1</th>\n",
       "      <td>1</td>\n",
       "      <td>femenino</td>\n",
       "      <td>servicio</td>\n",
       "      <td>recreativoeducativo</td>\n",
       "      <td>barriocaicedo</td>\n",
       "      <td>1</td>\n",
       "      <td>9.0</td>\n",
       "      <td>30/10/2017</td>\n",
       "      <td>6000000</td>\n",
       "      <td>microempresarial</td>\n",
       "    </tr>\n",
       "    <tr>\n",
       "      <th>2</th>\n",
       "      <td>2</td>\n",
       "      <td>femenino</td>\n",
       "      <td>comercio</td>\n",
       "      <td>tienda</td>\n",
       "      <td>aranjuez</td>\n",
       "      <td>2</td>\n",
       "      <td>4.0</td>\n",
       "      <td>3/08/2017</td>\n",
       "      <td>7300000</td>\n",
       "      <td>microempresarial</td>\n",
       "    </tr>\n",
       "    <tr>\n",
       "      <th>3</th>\n",
       "      <td>3</td>\n",
       "      <td>masculino</td>\n",
       "      <td>comercio</td>\n",
       "      <td>variedades</td>\n",
       "      <td>cabecerasancristobal</td>\n",
       "      <td>3</td>\n",
       "      <td>60.0</td>\n",
       "      <td>20/11/2017</td>\n",
       "      <td>7000000</td>\n",
       "      <td>microempresarial</td>\n",
       "    </tr>\n",
       "    <tr>\n",
       "      <th>4</th>\n",
       "      <td>4</td>\n",
       "      <td>femenino</td>\n",
       "      <td>comercio</td>\n",
       "      <td>fabricade</td>\n",
       "      <td>robledo</td>\n",
       "      <td>2</td>\n",
       "      <td>7.0</td>\n",
       "      <td>23/02/2017</td>\n",
       "      <td>5000000</td>\n",
       "      <td>microempresarial</td>\n",
       "    </tr>\n",
       "  </tbody>\n",
       "</table>\n",
       "</div>"
      ],
      "text/plain": [
       "   Unnamed: 0       sexo tipo_de_emprendimiento         idea_negocio  \\\n",
       "0           0  masculino               comercio            fabricade   \n",
       "1           1   femenino               servicio  recreativoeducativo   \n",
       "2           2   femenino               comercio               tienda   \n",
       "3           3  masculino               comercio           variedades   \n",
       "4           4   femenino               comercio            fabricade   \n",
       "\n",
       "                 barrio  estrato  comuna_ciudadano fecha_de_beneficio  \\\n",
       "0                 prado        3              10.0         13/07/2018   \n",
       "1         barriocaicedo        1               9.0         30/10/2017   \n",
       "2              aranjuez        2               4.0          3/08/2017   \n",
       "3  cabecerasancristobal        3              60.0         20/11/2017   \n",
       "4               robledo        2               7.0         23/02/2017   \n",
       "\n",
       "  monto_del_credito     línea_credito  \n",
       "0           5000000  microempresarial  \n",
       "1           6000000  microempresarial  \n",
       "2           7300000  microempresarial  \n",
       "3           7000000  microempresarial  \n",
       "4           5000000  microempresarial  "
      ]
     },
     "execution_count": 4,
     "metadata": {},
     "output_type": "execute_result"
    }
   ],
   "source": [
    "df.head()"
   ]
  },
  {
   "cell_type": "code",
   "execution_count": 5,
   "metadata": {},
   "outputs": [
    {
     "data": {
      "text/plain": [
       "Index(['Unnamed: 0', 'sexo', 'tipo_de_emprendimiento', 'idea_negocio',\n",
       "       'barrio', 'estrato', 'comuna_ciudadano', 'fecha_de_beneficio',\n",
       "       'monto_del_credito', 'línea_credito'],\n",
       "      dtype='object')"
      ]
     },
     "execution_count": 5,
     "metadata": {},
     "output_type": "execute_result"
    }
   ],
   "source": [
    "df.columns"
   ]
  },
  {
   "cell_type": "code",
   "execution_count": 6,
   "metadata": {},
   "outputs": [
    {
     "data": {
      "text/plain": [
       "sexo\n",
       "femenino     7078\n",
       "masculino    3842\n",
       "Name: count, dtype: int64"
      ]
     },
     "execution_count": 6,
     "metadata": {},
     "output_type": "execute_result"
    }
   ],
   "source": [
    "df.sexo.value_counts()\n"
   ]
  },
  {
   "cell_type": "code",
   "execution_count": 7,
   "metadata": {},
   "outputs": [
    {
     "data": {
      "text/plain": [
       "Unnamed: 0                  0\n",
       "sexo                        0\n",
       "tipo_de_emprendimiento    102\n",
       "idea_negocio                0\n",
       "barrio                    102\n",
       "estrato                     0\n",
       "comuna_ciudadano            0\n",
       "fecha_de_beneficio          0\n",
       "monto_del_credito           0\n",
       "línea_credito               0\n",
       "dtype: int64"
      ]
     },
     "execution_count": 7,
     "metadata": {},
     "output_type": "execute_result"
    }
   ],
   "source": [
    "# Calcular la cantidad de valores NA en cada columna del DataFrame\n",
    "na_counts = df.isna().sum()\n",
    "na_counts"
   ]
  },
  {
   "cell_type": "code",
   "execution_count": 8,
   "metadata": {},
   "outputs": [],
   "source": [
    "# Filtrar filas\n",
    "df = df[df['tipo_de_emprendimiento'].notna() & (df['tipo_de_emprendimiento'] != \"\")]\n",
    "df = df[df['barrio'].notna() & (df['barrio'] != \"\")]"
   ]
  },
  {
   "cell_type": "code",
   "execution_count": 9,
   "metadata": {},
   "outputs": [
    {
     "data": {
      "text/plain": [
       "Unnamed: 0                0\n",
       "sexo                      0\n",
       "tipo_de_emprendimiento    0\n",
       "idea_negocio              0\n",
       "barrio                    0\n",
       "estrato                   0\n",
       "comuna_ciudadano          0\n",
       "fecha_de_beneficio        0\n",
       "monto_del_credito         0\n",
       "línea_credito             0\n",
       "dtype: int64"
      ]
     },
     "execution_count": 9,
     "metadata": {},
     "output_type": "execute_result"
    }
   ],
   "source": [
    "# Calcular la cantidad de valores NA en cada columna del DataFrame\n",
    "na_counts = df.isna().sum()\n",
    "na_counts"
   ]
  },
  {
   "cell_type": "code",
   "execution_count": 10,
   "metadata": {},
   "outputs": [
    {
     "data": {
      "text/html": [
       "<div>\n",
       "<style scoped>\n",
       "    .dataframe tbody tr th:only-of-type {\n",
       "        vertical-align: middle;\n",
       "    }\n",
       "\n",
       "    .dataframe tbody tr th {\n",
       "        vertical-align: top;\n",
       "    }\n",
       "\n",
       "    .dataframe thead th {\n",
       "        text-align: right;\n",
       "    }\n",
       "</style>\n",
       "<table border=\"1\" class=\"dataframe\">\n",
       "  <thead>\n",
       "    <tr style=\"text-align: right;\">\n",
       "      <th></th>\n",
       "      <th>Unnamed: 0</th>\n",
       "      <th>sexo</th>\n",
       "      <th>tipo_de_emprendimiento</th>\n",
       "      <th>idea_negocio</th>\n",
       "      <th>barrio</th>\n",
       "      <th>estrato</th>\n",
       "      <th>comuna_ciudadano</th>\n",
       "      <th>fecha_de_beneficio</th>\n",
       "      <th>monto_del_credito</th>\n",
       "      <th>línea_credito</th>\n",
       "    </tr>\n",
       "  </thead>\n",
       "  <tbody>\n",
       "    <tr>\n",
       "      <th>0</th>\n",
       "      <td>0</td>\n",
       "      <td>masculino</td>\n",
       "      <td>comercio</td>\n",
       "      <td>fabricade</td>\n",
       "      <td>prado</td>\n",
       "      <td>3</td>\n",
       "      <td>10.0</td>\n",
       "      <td>13/07/2018</td>\n",
       "      <td>5000000</td>\n",
       "      <td>microempresarial</td>\n",
       "    </tr>\n",
       "    <tr>\n",
       "      <th>1</th>\n",
       "      <td>1</td>\n",
       "      <td>femenino</td>\n",
       "      <td>servicio</td>\n",
       "      <td>recreativoeducativo</td>\n",
       "      <td>barriocaicedo</td>\n",
       "      <td>1</td>\n",
       "      <td>9.0</td>\n",
       "      <td>30/10/2017</td>\n",
       "      <td>6000000</td>\n",
       "      <td>microempresarial</td>\n",
       "    </tr>\n",
       "    <tr>\n",
       "      <th>2</th>\n",
       "      <td>2</td>\n",
       "      <td>femenino</td>\n",
       "      <td>comercio</td>\n",
       "      <td>tienda</td>\n",
       "      <td>aranjuez</td>\n",
       "      <td>2</td>\n",
       "      <td>4.0</td>\n",
       "      <td>3/08/2017</td>\n",
       "      <td>7300000</td>\n",
       "      <td>microempresarial</td>\n",
       "    </tr>\n",
       "    <tr>\n",
       "      <th>3</th>\n",
       "      <td>3</td>\n",
       "      <td>masculino</td>\n",
       "      <td>comercio</td>\n",
       "      <td>variedades</td>\n",
       "      <td>cabecerasancristobal</td>\n",
       "      <td>3</td>\n",
       "      <td>60.0</td>\n",
       "      <td>20/11/2017</td>\n",
       "      <td>7000000</td>\n",
       "      <td>microempresarial</td>\n",
       "    </tr>\n",
       "    <tr>\n",
       "      <th>4</th>\n",
       "      <td>4</td>\n",
       "      <td>femenino</td>\n",
       "      <td>comercio</td>\n",
       "      <td>fabricade</td>\n",
       "      <td>robledo</td>\n",
       "      <td>2</td>\n",
       "      <td>7.0</td>\n",
       "      <td>23/02/2017</td>\n",
       "      <td>5000000</td>\n",
       "      <td>microempresarial</td>\n",
       "    </tr>\n",
       "  </tbody>\n",
       "</table>\n",
       "</div>"
      ],
      "text/plain": [
       "   Unnamed: 0       sexo tipo_de_emprendimiento         idea_negocio  \\\n",
       "0           0  masculino               comercio            fabricade   \n",
       "1           1   femenino               servicio  recreativoeducativo   \n",
       "2           2   femenino               comercio               tienda   \n",
       "3           3  masculino               comercio           variedades   \n",
       "4           4   femenino               comercio            fabricade   \n",
       "\n",
       "                 barrio  estrato  comuna_ciudadano fecha_de_beneficio  \\\n",
       "0                 prado        3              10.0         13/07/2018   \n",
       "1         barriocaicedo        1               9.0         30/10/2017   \n",
       "2              aranjuez        2               4.0          3/08/2017   \n",
       "3  cabecerasancristobal        3              60.0         20/11/2017   \n",
       "4               robledo        2               7.0         23/02/2017   \n",
       "\n",
       "  monto_del_credito     línea_credito  \n",
       "0           5000000  microempresarial  \n",
       "1           6000000  microempresarial  \n",
       "2           7300000  microempresarial  \n",
       "3           7000000  microempresarial  \n",
       "4           5000000  microempresarial  "
      ]
     },
     "execution_count": 10,
     "metadata": {},
     "output_type": "execute_result"
    }
   ],
   "source": [
    "df.head()"
   ]
  },
  {
   "cell_type": "code",
   "execution_count": 11,
   "metadata": {},
   "outputs": [
    {
     "data": {
      "text/plain": [
       "monto_del_credito\n",
       "7800000           1167\n",
       "7000000           1054\n",
       "5000000           1035\n",
       "6000000            946\n",
       "4000000            759\n",
       "                  ... \n",
       "250000               1\n",
       "4980000              1\n",
       "$ 6,100,000.00       1\n",
       "17236350             1\n",
       "80000000             1\n",
       "Name: count, Length: 332, dtype: int64"
      ]
     },
     "execution_count": 11,
     "metadata": {},
     "output_type": "execute_result"
    }
   ],
   "source": [
    "df.monto_del_credito.value_counts()"
   ]
  },
  {
   "cell_type": "code",
   "execution_count": 27,
   "metadata": {},
   "outputs": [],
   "source": [
    "# Limpiar la columna 'monto_del_credito'\n",
    "df['monto_del_credito'] = df['monto_del_credito'].str.replace(\"[$, ]\", \"\", regex=True).str.strip()\n",
    "\n",
    "# Convertir 'monto_del_credito' a numérico\n",
    "df['monto_del_credito'] = pd.to_numeric(df['monto_del_credito'], errors='coerce')\n",
    "\n",
    "# Convertir 'monto_del_credito' a entero (donde sea posible)\n",
    "df['monto_del_credito'] = df['monto_del_credito'].fillna(0).astype(int)\n",
    "\n",
    "# Convertir 'monto_del_credito' a texto y eliminar '.00'\n",
    "df['monto_del_credito'] = df['monto_del_credito'].astype(str).str.replace('.00', '')"
   ]
  },
  {
   "cell_type": "code",
   "execution_count": 28,
   "metadata": {},
   "outputs": [
    {
     "data": {
      "text/plain": [
       "monto_del_credito\n",
       "7800000     1179\n",
       "7000000     1060\n",
       "5000000     1049\n",
       "6000000      945\n",
       "4000000      760\n",
       "            ... \n",
       "400000         1\n",
       "8821000        1\n",
       "35000000       1\n",
       "237976         1\n",
       "80000000       1\n",
       "Name: count, Length: 277, dtype: int64"
      ]
     },
     "execution_count": 28,
     "metadata": {},
     "output_type": "execute_result"
    }
   ],
   "source": [
    "df.monto_del_credito.value_counts()"
   ]
  },
  {
   "cell_type": "code",
   "execution_count": 14,
   "metadata": {},
   "outputs": [],
   "source": [
    "# Separar la fecha en día, mes y año\n",
    "df[['día', 'mes', 'año']] = df['fecha_de_beneficio'].str.split('/', expand=True)\n",
    "\n"
   ]
  },
  {
   "cell_type": "code",
   "execution_count": 15,
   "metadata": {},
   "outputs": [
    {
     "data": {
      "text/plain": [
       "año\n",
       "2018    3964\n",
       "2017    3330\n",
       "2016    1942\n",
       "2019     802\n",
       "25        38\n",
       "23        34\n",
       "8         29\n",
       "15        28\n",
       "26        27\n",
       "7         27\n",
       "6         26\n",
       "24        25\n",
       "5         25\n",
       "14        24\n",
       "13        24\n",
       "3         23\n",
       "28        23\n",
       "10        22\n",
       "22        21\n",
       "20        21\n",
       "1         21\n",
       "4         21\n",
       "21        21\n",
       "27        21\n",
       "2         19\n",
       "18        19\n",
       "9         18\n",
       "16        18\n",
       "30        18\n",
       "19        17\n",
       "31        16\n",
       "12        15\n",
       "29        13\n",
       "11        13\n",
       "17        11\n",
       "Name: count, dtype: int64"
      ]
     },
     "execution_count": 15,
     "metadata": {},
     "output_type": "execute_result"
    }
   ],
   "source": [
    "df.año.value_counts()"
   ]
  },
  {
   "cell_type": "code",
   "execution_count": 16,
   "metadata": {},
   "outputs": [],
   "source": [
    "# Reordenar si el año tiene menos de 4 dígitos\n",
    "df.loc[df['año'].str.len() < 4, ['día', 'año']] = df.loc[df['año'].str.len() < 4, ['año', 'día']].values\n",
    "\n",
    "# Combinar el año, mes y día en una nueva columna\n",
    "df['fecha_de_beneficio'] = df['año'] + '-' + df['mes'] + '-' + df['día']"
   ]
  },
  {
   "cell_type": "code",
   "execution_count": 17,
   "metadata": {},
   "outputs": [
    {
     "data": {
      "text/html": [
       "<div>\n",
       "<style scoped>\n",
       "    .dataframe tbody tr th:only-of-type {\n",
       "        vertical-align: middle;\n",
       "    }\n",
       "\n",
       "    .dataframe tbody tr th {\n",
       "        vertical-align: top;\n",
       "    }\n",
       "\n",
       "    .dataframe thead th {\n",
       "        text-align: right;\n",
       "    }\n",
       "</style>\n",
       "<table border=\"1\" class=\"dataframe\">\n",
       "  <thead>\n",
       "    <tr style=\"text-align: right;\">\n",
       "      <th></th>\n",
       "      <th>Unnamed: 0</th>\n",
       "      <th>sexo</th>\n",
       "      <th>tipo_de_emprendimiento</th>\n",
       "      <th>idea_negocio</th>\n",
       "      <th>barrio</th>\n",
       "      <th>estrato</th>\n",
       "      <th>comuna_ciudadano</th>\n",
       "      <th>fecha_de_beneficio</th>\n",
       "      <th>monto_del_credito</th>\n",
       "      <th>línea_credito</th>\n",
       "      <th>día</th>\n",
       "      <th>mes</th>\n",
       "      <th>año</th>\n",
       "    </tr>\n",
       "  </thead>\n",
       "  <tbody>\n",
       "    <tr>\n",
       "      <th>0</th>\n",
       "      <td>0</td>\n",
       "      <td>masculino</td>\n",
       "      <td>comercio</td>\n",
       "      <td>fabricade</td>\n",
       "      <td>prado</td>\n",
       "      <td>3</td>\n",
       "      <td>10.0</td>\n",
       "      <td>2018-07-13</td>\n",
       "      <td>5000000</td>\n",
       "      <td>microempresarial</td>\n",
       "      <td>13</td>\n",
       "      <td>07</td>\n",
       "      <td>2018</td>\n",
       "    </tr>\n",
       "    <tr>\n",
       "      <th>1</th>\n",
       "      <td>1</td>\n",
       "      <td>femenino</td>\n",
       "      <td>servicio</td>\n",
       "      <td>recreativoeducativo</td>\n",
       "      <td>barriocaicedo</td>\n",
       "      <td>1</td>\n",
       "      <td>9.0</td>\n",
       "      <td>2017-10-30</td>\n",
       "      <td>6000000</td>\n",
       "      <td>microempresarial</td>\n",
       "      <td>30</td>\n",
       "      <td>10</td>\n",
       "      <td>2017</td>\n",
       "    </tr>\n",
       "    <tr>\n",
       "      <th>2</th>\n",
       "      <td>2</td>\n",
       "      <td>femenino</td>\n",
       "      <td>comercio</td>\n",
       "      <td>tienda</td>\n",
       "      <td>aranjuez</td>\n",
       "      <td>2</td>\n",
       "      <td>4.0</td>\n",
       "      <td>2017-08-3</td>\n",
       "      <td>7300000</td>\n",
       "      <td>microempresarial</td>\n",
       "      <td>3</td>\n",
       "      <td>08</td>\n",
       "      <td>2017</td>\n",
       "    </tr>\n",
       "    <tr>\n",
       "      <th>3</th>\n",
       "      <td>3</td>\n",
       "      <td>masculino</td>\n",
       "      <td>comercio</td>\n",
       "      <td>variedades</td>\n",
       "      <td>cabecerasancristobal</td>\n",
       "      <td>3</td>\n",
       "      <td>60.0</td>\n",
       "      <td>2017-11-20</td>\n",
       "      <td>7000000</td>\n",
       "      <td>microempresarial</td>\n",
       "      <td>20</td>\n",
       "      <td>11</td>\n",
       "      <td>2017</td>\n",
       "    </tr>\n",
       "    <tr>\n",
       "      <th>4</th>\n",
       "      <td>4</td>\n",
       "      <td>femenino</td>\n",
       "      <td>comercio</td>\n",
       "      <td>fabricade</td>\n",
       "      <td>robledo</td>\n",
       "      <td>2</td>\n",
       "      <td>7.0</td>\n",
       "      <td>2017-02-23</td>\n",
       "      <td>5000000</td>\n",
       "      <td>microempresarial</td>\n",
       "      <td>23</td>\n",
       "      <td>02</td>\n",
       "      <td>2017</td>\n",
       "    </tr>\n",
       "  </tbody>\n",
       "</table>\n",
       "</div>"
      ],
      "text/plain": [
       "   Unnamed: 0       sexo tipo_de_emprendimiento         idea_negocio  \\\n",
       "0           0  masculino               comercio            fabricade   \n",
       "1           1   femenino               servicio  recreativoeducativo   \n",
       "2           2   femenino               comercio               tienda   \n",
       "3           3  masculino               comercio           variedades   \n",
       "4           4   femenino               comercio            fabricade   \n",
       "\n",
       "                 barrio  estrato  comuna_ciudadano fecha_de_beneficio  \\\n",
       "0                 prado        3              10.0         2018-07-13   \n",
       "1         barriocaicedo        1               9.0         2017-10-30   \n",
       "2              aranjuez        2               4.0          2017-08-3   \n",
       "3  cabecerasancristobal        3              60.0         2017-11-20   \n",
       "4               robledo        2               7.0         2017-02-23   \n",
       "\n",
       "  monto_del_credito     línea_credito día mes   año  \n",
       "0           5000000  microempresarial  13  07  2018  \n",
       "1           6000000  microempresarial  30  10  2017  \n",
       "2           7300000  microempresarial   3  08  2017  \n",
       "3           7000000  microempresarial  20  11  2017  \n",
       "4           5000000  microempresarial  23  02  2017  "
      ]
     },
     "execution_count": 17,
     "metadata": {},
     "output_type": "execute_result"
    }
   ],
   "source": [
    "df.head()"
   ]
  },
  {
   "cell_type": "code",
   "execution_count": 18,
   "metadata": {},
   "outputs": [
    {
     "data": {
      "text/plain": [
       "año\n",
       "2018    4218\n",
       "2017    3566\n",
       "2016    2083\n",
       "2019     849\n",
       "Name: count, dtype: int64"
      ]
     },
     "execution_count": 18,
     "metadata": {},
     "output_type": "execute_result"
    }
   ],
   "source": [
    "df.año.value_counts()"
   ]
  },
  {
   "cell_type": "code",
   "execution_count": 19,
   "metadata": {},
   "outputs": [
    {
     "data": {
      "text/plain": [
       "Unnamed: 0                  int64\n",
       "sexo                       object\n",
       "tipo_de_emprendimiento     object\n",
       "idea_negocio               object\n",
       "barrio                     object\n",
       "estrato                     int64\n",
       "comuna_ciudadano          float64\n",
       "fecha_de_beneficio         object\n",
       "monto_del_credito          object\n",
       "línea_credito              object\n",
       "día                        object\n",
       "mes                        object\n",
       "año                        object\n",
       "dtype: object"
      ]
     },
     "execution_count": 19,
     "metadata": {},
     "output_type": "execute_result"
    }
   ],
   "source": [
    "df.dtypes"
   ]
  },
  {
   "cell_type": "code",
   "execution_count": 20,
   "metadata": {},
   "outputs": [],
   "source": [
    "# Convertir las columnas 'estrato' y 'comuna_ciudadano' a tipo object (string)\n",
    "df['estrato'] = df['estrato'].astype(str)\n",
    "df['comuna_ciudadano'] = df['comuna_ciudadano'].astype(str)"
   ]
  },
  {
   "cell_type": "code",
   "execution_count": 21,
   "metadata": {},
   "outputs": [
    {
     "data": {
      "text/plain": [
       "Unnamed: 0                 int64\n",
       "sexo                      object\n",
       "tipo_de_emprendimiento    object\n",
       "idea_negocio              object\n",
       "barrio                    object\n",
       "estrato                   object\n",
       "comuna_ciudadano          object\n",
       "fecha_de_beneficio        object\n",
       "monto_del_credito         object\n",
       "línea_credito             object\n",
       "día                       object\n",
       "mes                       object\n",
       "año                       object\n",
       "dtype: object"
      ]
     },
     "execution_count": 21,
     "metadata": {},
     "output_type": "execute_result"
    }
   ],
   "source": [
    "df.dtypes"
   ]
  },
  {
   "cell_type": "code",
   "execution_count": 29,
   "metadata": {},
   "outputs": [],
   "source": [
    "# Suponiendo que 'categorical_columns' es una lista de nombres de columnas categóricas ya definida\n",
    "categorical_columns = [col for col in df.columns if df[col].dtype == 'object']\n",
    "\n",
    "# Crear una nueva columna combinando información de varias columnas\n",
    "df['Combinada'] = df.apply(lambda x: '-'.join([x[col] for col in categorical_columns] + [x['estrato'], x['comuna_ciudadano'], x['fecha_de_beneficio'], str(x['monto_del_credito'])]), axis=1)"
   ]
  },
  {
   "cell_type": "code",
   "execution_count": 30,
   "metadata": {},
   "outputs": [
    {
     "data": {
      "text/html": [
       "<div>\n",
       "<style scoped>\n",
       "    .dataframe tbody tr th:only-of-type {\n",
       "        vertical-align: middle;\n",
       "    }\n",
       "\n",
       "    .dataframe tbody tr th {\n",
       "        vertical-align: top;\n",
       "    }\n",
       "\n",
       "    .dataframe thead th {\n",
       "        text-align: right;\n",
       "    }\n",
       "</style>\n",
       "<table border=\"1\" class=\"dataframe\">\n",
       "  <thead>\n",
       "    <tr style=\"text-align: right;\">\n",
       "      <th></th>\n",
       "      <th>Unnamed: 0</th>\n",
       "      <th>sexo</th>\n",
       "      <th>tipo_de_emprendimiento</th>\n",
       "      <th>idea_negocio</th>\n",
       "      <th>barrio</th>\n",
       "      <th>estrato</th>\n",
       "      <th>comuna_ciudadano</th>\n",
       "      <th>fecha_de_beneficio</th>\n",
       "      <th>monto_del_credito</th>\n",
       "      <th>línea_credito</th>\n",
       "      <th>Combinada</th>\n",
       "    </tr>\n",
       "  </thead>\n",
       "  <tbody>\n",
       "    <tr>\n",
       "      <th>0</th>\n",
       "      <td>0</td>\n",
       "      <td>masculino</td>\n",
       "      <td>comercio</td>\n",
       "      <td>fabricade</td>\n",
       "      <td>prado</td>\n",
       "      <td>3</td>\n",
       "      <td>10.0</td>\n",
       "      <td>2018-07-13</td>\n",
       "      <td>5000000</td>\n",
       "      <td>microempresarial</td>\n",
       "      <td>masculino-comercio-fabricade-prado-3-10.0-2018...</td>\n",
       "    </tr>\n",
       "    <tr>\n",
       "      <th>1</th>\n",
       "      <td>1</td>\n",
       "      <td>femenino</td>\n",
       "      <td>servicio</td>\n",
       "      <td>recreativoeducativo</td>\n",
       "      <td>barriocaicedo</td>\n",
       "      <td>1</td>\n",
       "      <td>9.0</td>\n",
       "      <td>2017-10-30</td>\n",
       "      <td>6000000</td>\n",
       "      <td>microempresarial</td>\n",
       "      <td>femenino-servicio-recreativoeducativo-barrioca...</td>\n",
       "    </tr>\n",
       "    <tr>\n",
       "      <th>2</th>\n",
       "      <td>2</td>\n",
       "      <td>femenino</td>\n",
       "      <td>comercio</td>\n",
       "      <td>tienda</td>\n",
       "      <td>aranjuez</td>\n",
       "      <td>2</td>\n",
       "      <td>4.0</td>\n",
       "      <td>2017-08-3</td>\n",
       "      <td>7300000</td>\n",
       "      <td>microempresarial</td>\n",
       "      <td>femenino-comercio-tienda-aranjuez-2-4.0-2017-0...</td>\n",
       "    </tr>\n",
       "    <tr>\n",
       "      <th>3</th>\n",
       "      <td>3</td>\n",
       "      <td>masculino</td>\n",
       "      <td>comercio</td>\n",
       "      <td>variedades</td>\n",
       "      <td>cabecerasancristobal</td>\n",
       "      <td>3</td>\n",
       "      <td>60.0</td>\n",
       "      <td>2017-11-20</td>\n",
       "      <td>7000000</td>\n",
       "      <td>microempresarial</td>\n",
       "      <td>masculino-comercio-variedades-cabecerasancrist...</td>\n",
       "    </tr>\n",
       "    <tr>\n",
       "      <th>4</th>\n",
       "      <td>4</td>\n",
       "      <td>femenino</td>\n",
       "      <td>comercio</td>\n",
       "      <td>fabricade</td>\n",
       "      <td>robledo</td>\n",
       "      <td>2</td>\n",
       "      <td>7.0</td>\n",
       "      <td>2017-02-23</td>\n",
       "      <td>5000000</td>\n",
       "      <td>microempresarial</td>\n",
       "      <td>femenino-comercio-fabricade-robledo-2-7.0-2017...</td>\n",
       "    </tr>\n",
       "  </tbody>\n",
       "</table>\n",
       "</div>"
      ],
      "text/plain": [
       "   Unnamed: 0       sexo tipo_de_emprendimiento         idea_negocio  \\\n",
       "0           0  masculino               comercio            fabricade   \n",
       "1           1   femenino               servicio  recreativoeducativo   \n",
       "2           2   femenino               comercio               tienda   \n",
       "3           3  masculino               comercio           variedades   \n",
       "4           4   femenino               comercio            fabricade   \n",
       "\n",
       "                 barrio estrato comuna_ciudadano fecha_de_beneficio  \\\n",
       "0                 prado       3             10.0         2018-07-13   \n",
       "1         barriocaicedo       1              9.0         2017-10-30   \n",
       "2              aranjuez       2              4.0          2017-08-3   \n",
       "3  cabecerasancristobal       3             60.0         2017-11-20   \n",
       "4               robledo       2              7.0         2017-02-23   \n",
       "\n",
       "  monto_del_credito     línea_credito  \\\n",
       "0           5000000  microempresarial   \n",
       "1           6000000  microempresarial   \n",
       "2           7300000  microempresarial   \n",
       "3           7000000  microempresarial   \n",
       "4           5000000  microempresarial   \n",
       "\n",
       "                                           Combinada  \n",
       "0  masculino-comercio-fabricade-prado-3-10.0-2018...  \n",
       "1  femenino-servicio-recreativoeducativo-barrioca...  \n",
       "2  femenino-comercio-tienda-aranjuez-2-4.0-2017-0...  \n",
       "3  masculino-comercio-variedades-cabecerasancrist...  \n",
       "4  femenino-comercio-fabricade-robledo-2-7.0-2017...  "
      ]
     },
     "execution_count": 30,
     "metadata": {},
     "output_type": "execute_result"
    }
   ],
   "source": [
    "df.head()"
   ]
  },
  {
   "cell_type": "code",
   "execution_count": null,
   "metadata": {},
   "outputs": [],
   "source": []
  },
  {
   "cell_type": "code",
   "execution_count": 31,
   "metadata": {},
   "outputs": [],
   "source": [
    "# Eliminar duplicados\n",
    "df = df.drop_duplicates(subset='Combinada')\n",
    "\n",
    "# Eliminar columnas temporales\n",
    "df.drop(['día', 'mes', 'año', 'Combinada'], axis=1, inplace=True)"
   ]
  },
  {
   "cell_type": "code",
   "execution_count": 32,
   "metadata": {},
   "outputs": [
    {
     "data": {
      "text/html": [
       "<div>\n",
       "<style scoped>\n",
       "    .dataframe tbody tr th:only-of-type {\n",
       "        vertical-align: middle;\n",
       "    }\n",
       "\n",
       "    .dataframe tbody tr th {\n",
       "        vertical-align: top;\n",
       "    }\n",
       "\n",
       "    .dataframe thead th {\n",
       "        text-align: right;\n",
       "    }\n",
       "</style>\n",
       "<table border=\"1\" class=\"dataframe\">\n",
       "  <thead>\n",
       "    <tr style=\"text-align: right;\">\n",
       "      <th></th>\n",
       "      <th>Unnamed: 0</th>\n",
       "      <th>sexo</th>\n",
       "      <th>tipo_de_emprendimiento</th>\n",
       "      <th>idea_negocio</th>\n",
       "      <th>barrio</th>\n",
       "      <th>estrato</th>\n",
       "      <th>comuna_ciudadano</th>\n",
       "      <th>fecha_de_beneficio</th>\n",
       "      <th>monto_del_credito</th>\n",
       "      <th>línea_credito</th>\n",
       "      <th>Combinada</th>\n",
       "    </tr>\n",
       "  </thead>\n",
       "  <tbody>\n",
       "    <tr>\n",
       "      <th>0</th>\n",
       "      <td>0</td>\n",
       "      <td>masculino</td>\n",
       "      <td>comercio</td>\n",
       "      <td>fabricade</td>\n",
       "      <td>prado</td>\n",
       "      <td>3</td>\n",
       "      <td>10.0</td>\n",
       "      <td>2018-07-13</td>\n",
       "      <td>5000000</td>\n",
       "      <td>microempresarial</td>\n",
       "      <td>masculino-comercio-fabricade-prado-3-10.0-2018...</td>\n",
       "    </tr>\n",
       "    <tr>\n",
       "      <th>1</th>\n",
       "      <td>1</td>\n",
       "      <td>femenino</td>\n",
       "      <td>servicio</td>\n",
       "      <td>recreativoeducativo</td>\n",
       "      <td>barriocaicedo</td>\n",
       "      <td>1</td>\n",
       "      <td>9.0</td>\n",
       "      <td>2017-10-30</td>\n",
       "      <td>6000000</td>\n",
       "      <td>microempresarial</td>\n",
       "      <td>femenino-servicio-recreativoeducativo-barrioca...</td>\n",
       "    </tr>\n",
       "    <tr>\n",
       "      <th>2</th>\n",
       "      <td>2</td>\n",
       "      <td>femenino</td>\n",
       "      <td>comercio</td>\n",
       "      <td>tienda</td>\n",
       "      <td>aranjuez</td>\n",
       "      <td>2</td>\n",
       "      <td>4.0</td>\n",
       "      <td>2017-08-3</td>\n",
       "      <td>7300000</td>\n",
       "      <td>microempresarial</td>\n",
       "      <td>femenino-comercio-tienda-aranjuez-2-4.0-2017-0...</td>\n",
       "    </tr>\n",
       "    <tr>\n",
       "      <th>3</th>\n",
       "      <td>3</td>\n",
       "      <td>masculino</td>\n",
       "      <td>comercio</td>\n",
       "      <td>variedades</td>\n",
       "      <td>cabecerasancristobal</td>\n",
       "      <td>3</td>\n",
       "      <td>60.0</td>\n",
       "      <td>2017-11-20</td>\n",
       "      <td>7000000</td>\n",
       "      <td>microempresarial</td>\n",
       "      <td>masculino-comercio-variedades-cabecerasancrist...</td>\n",
       "    </tr>\n",
       "    <tr>\n",
       "      <th>4</th>\n",
       "      <td>4</td>\n",
       "      <td>femenino</td>\n",
       "      <td>comercio</td>\n",
       "      <td>fabricade</td>\n",
       "      <td>robledo</td>\n",
       "      <td>2</td>\n",
       "      <td>7.0</td>\n",
       "      <td>2017-02-23</td>\n",
       "      <td>5000000</td>\n",
       "      <td>microempresarial</td>\n",
       "      <td>femenino-comercio-fabricade-robledo-2-7.0-2017...</td>\n",
       "    </tr>\n",
       "  </tbody>\n",
       "</table>\n",
       "</div>"
      ],
      "text/plain": [
       "   Unnamed: 0       sexo tipo_de_emprendimiento         idea_negocio  \\\n",
       "0           0  masculino               comercio            fabricade   \n",
       "1           1   femenino               servicio  recreativoeducativo   \n",
       "2           2   femenino               comercio               tienda   \n",
       "3           3  masculino               comercio           variedades   \n",
       "4           4   femenino               comercio            fabricade   \n",
       "\n",
       "                 barrio estrato comuna_ciudadano fecha_de_beneficio  \\\n",
       "0                 prado       3             10.0         2018-07-13   \n",
       "1         barriocaicedo       1              9.0         2017-10-30   \n",
       "2              aranjuez       2              4.0          2017-08-3   \n",
       "3  cabecerasancristobal       3             60.0         2017-11-20   \n",
       "4               robledo       2              7.0         2017-02-23   \n",
       "\n",
       "  monto_del_credito     línea_credito  \\\n",
       "0           5000000  microempresarial   \n",
       "1           6000000  microempresarial   \n",
       "2           7300000  microempresarial   \n",
       "3           7000000  microempresarial   \n",
       "4           5000000  microempresarial   \n",
       "\n",
       "                                           Combinada  \n",
       "0  masculino-comercio-fabricade-prado-3-10.0-2018...  \n",
       "1  femenino-servicio-recreativoeducativo-barrioca...  \n",
       "2  femenino-comercio-tienda-aranjuez-2-4.0-2017-0...  \n",
       "3  masculino-comercio-variedades-cabecerasancrist...  \n",
       "4  femenino-comercio-fabricade-robledo-2-7.0-2017...  "
      ]
     },
     "execution_count": 32,
     "metadata": {},
     "output_type": "execute_result"
    }
   ],
   "source": [
    "df.head()"
   ]
  },
  {
   "cell_type": "code",
   "execution_count": 33,
   "metadata": {},
   "outputs": [
    {
     "data": {
      "text/plain": [
       "sexo\n",
       "femenino     6617\n",
       "masculino    3589\n",
       "Name: count, dtype: int64"
      ]
     },
     "execution_count": 33,
     "metadata": {},
     "output_type": "execute_result"
    }
   ],
   "source": [
    "df.sexo.value_counts()\n"
   ]
  },
  {
   "cell_type": "code",
   "execution_count": 34,
   "metadata": {},
   "outputs": [
    {
     "data": {
      "text/plain": [
       "tipo_de_emprendimiento\n",
       "comercio        5636\n",
       "servicio        2205\n",
       "industria       2201\n",
       "agropecuaria     164\n",
       "Name: count, dtype: int64"
      ]
     },
     "execution_count": 34,
     "metadata": {},
     "output_type": "execute_result"
    }
   ],
   "source": [
    "df.tipo_de_emprendimiento.value_counts()"
   ]
  }
 ],
 "metadata": {
  "kernelspec": {
   "display_name": ".venv",
   "language": "python",
   "name": "python3"
  },
  "language_info": {
   "codemirror_mode": {
    "name": "ipython",
    "version": 3
   },
   "file_extension": ".py",
   "mimetype": "text/x-python",
   "name": "python",
   "nbconvert_exporter": "python",
   "pygments_lexer": "ipython3",
   "version": "3.12.8"
  }
 },
 "nbformat": 4,
 "nbformat_minor": 2
}
